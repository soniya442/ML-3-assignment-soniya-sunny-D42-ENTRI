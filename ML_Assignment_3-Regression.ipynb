{
 "cells": [
  {
   "cell_type": "markdown",
   "id": "24ee456b-97b4-40c9-83f2-c11a4c13b254",
   "metadata": {},
   "source": [
    "LINEAR REGRESSION"
   ]
  },
  {
   "cell_type": "markdown",
   "id": "9614c27d-e5fb-41d4-96dc-bc2ccabe2b52",
   "metadata": {},
   "source": [
    "Step 1: Load the dataset\n",
    "We use fetch_california_housing() from sklearn.datasets, which retrieves a dataset containing information about housing prices in California. The dataset includes features like:"
   ]
  },
  {
   "cell_type": "markdown",
   "id": "54ee9a88-0490-4ff5-be7a-bbfdc58b49ad",
   "metadata": {},
   "source": [
    "1. What is Regression?\n",
    "Regression is a fundamental supervised learning technique used in machine learning and statistics to model the relationship between a dependent variable (target) and one or more independent variables (features). The goal of regression analysis is to predict continuous values based on input features."
   ]
  },
  {
   "cell_type": "markdown",
   "id": "38bc90be-b2ab-4a2d-8f38-1bac0f8887f6",
   "metadata": {},
   "source": [
    "2. About the California Housing Dataset\n",
    "The California Housing dataset is a well-known dataset available in the sklearn library. It contains information about various features of houses in California, along with their median prices. The dataset was originally collected from the 1990 California Census and is commonly used for benchmarking regression models."
   ]
  },
  {
   "cell_type": "markdown",
   "id": "61a04b7b-f82c-4729-afb4-eda44043e100",
   "metadata": {},
   "source": [
    "3. Objective of the Assignment\n",
    "The goal of this project is to:\n",
    "✅ Load and preprocess the California Housing dataset.\n",
    "✅ Implement multiple regression algorithms to predict house prices.\n",
    "✅ Compare the performance of different models using evaluation metrics.\n",
    "✅ Identify the best and worst-performing models."
   ]
  },
  {
   "cell_type": "markdown",
   "id": "8c47fe7e-1245-437f-ae24-682a25489dab",
   "metadata": {},
   "source": [
    "Goal of the Project\n",
    "The primary objective of this project is to predict house prices in California using machine learning regression techniques. "
   ]
  },
  {
   "cell_type": "markdown",
   "id": "d830932a-288f-459a-b642-ea9035455ee2",
   "metadata": {},
   "source": [
    "1. Source of the Dataset\n",
    "The California Housing dataset is a publicly available dataset that can be accessed through the sklearn.datasets module. It was originally derived from the 1990 U.S. Census and is commonly used for benchmarking regression models.\n",
    "\n",
    "📌 Dataset Name: California Housing Dataset\n",
    "📌 Source: Collected from the 1990 California Census\n",
    "📌 Available in: sklearn.datasets.fetch_california_housing()\n",
    "📌 Purpose: Used for predicting median house values based on various housing-related features.\n"
   ]
  },
  {
   "cell_type": "markdown",
   "id": "7cbad7bf-43d1-4948-8db6-dd095d854401",
   "metadata": {},
   "source": [
    "Features/Columns in the California Housing Dataset\n",
    "The dataset consists of 8 independent variables (features) and 1 dependent variable (target). Below is a detailed explanation of each feature:"
   ]
  },
  {
   "cell_type": "markdown",
   "id": "dc4a0844-a29e-4b26-b24b-d5840d271b90",
   "metadata": {},
   "source": [
    "📌 Independent Variables (Features - \n",
    "𝑋\n",
    "X)\n",
    "These are the predictor variables used to estimate house prices:\n",
    "\n",
    "Feature\tDescription\tData Type\n",
    "MedInc\tMedian income of households in the area (in tens of thousands of dollars).\tContinuous (Float)\n",
    "HouseAge\tMedian age of houses in the area (in years).\tContinuous (Float)\n",
    "AveRooms\tAverage number of rooms per household in the area.\tContinuous (Float)\n",
    "AveBedrms\tAverage number of bedrooms per household in the area.\tContinuous (Float)\n",
    "Population\tTotal population in the block (neighborhood).\tContinuous (Float)\n",
    "AveOccup\tAverage number of people per household.\tContinuous (Float)\n",
    "Latitude\tLatitude of the block (geographical location).\tContinuous (Float)\n",
    "Longitude\tLongitude of the block (geographical location).\tContinuous (Float)\n"
   ]
  },
  {
   "cell_type": "markdown",
   "id": "2e18f6d5-feeb-44af-a873-d865f84960b6",
   "metadata": {},
   "source": [
    "🎯 Dependent Variable (Target - \n",
    "𝑌\n",
    "Y)\n",
    "This is the value we are predicting:\n",
    "\n",
    "Feature\tDescription\tData Type\n",
    "MedHouseVal\tMedian house value in the area (in hundreds of thousands of dollars).\tContinuous (Float)\n"
   ]
  },
  {
   "cell_type": "markdown",
   "id": "4630f35f-56a9-4a7b-80ee-d21ed2bb5c3f",
   "metadata": {},
   "source": [
    "🎯 Summary: Tools & Their Purpose\n",
    "Library\tPurpose\n",
    "pandas\tData manipulation & preprocessing\n",
    "numpy\tNumerical operations & arrays\n",
    "scikit-learn\tMachine learning models & metrics\n",
    "scipy.stats\tOutlier detection using Z-score\n",
    "matplotlib\tBasic data visualization\n",
    "seaborn\tAdvanced data visualization"
   ]
  },
  {
   "cell_type": "markdown",
   "id": "d84be6ff-1ea2-4a07-b32d-09499b5611be",
   "metadata": {},
   "source": [
    "Data Preprocessing"
   ]
  },
  {
   "cell_type": "markdown",
   "id": "9eae2e54-1af3-4815-9e35-b86d9f7c66dc",
   "metadata": {},
   "source": [
    "Load the dataset"
   ]
  },
  {
   "cell_type": "code",
   "execution_count": 27,
   "id": "9c3b8d94-3bc2-4953-8ab1-982aaa3d54a9",
   "metadata": {},
   "outputs": [],
   "source": [
    "from sklearn.datasets import fetch_california_housing\n",
    "data = fetch_california_housing()\n",
    "import pandas as pd"
   ]
  },
  {
   "cell_type": "code",
   "execution_count": 28,
   "id": "6d1a5a2b-0971-4242-ae18-d6616b5f4f28",
   "metadata": {},
   "outputs": [],
   "source": [
    "data = fetch_california_housing()"
   ]
  },
  {
   "cell_type": "markdown",
   "id": "9cb9a97a-e94c-4f93-875a-8c682979346e",
   "metadata": {},
   "source": [
    "Step 2: Convert to Pandas DataFrame\n",
    "To handle data more easily, we convert the dataset into a pandas.DataFrame:"
   ]
  },
  {
   "cell_type": "markdown",
   "id": "bd5fcf37-562b-4861-99a8-fe835574ec73",
   "metadata": {},
   "source": [
    "df = pd.DataFrame(data.data, columns=data.feature_names)\n",
    "df['MedHouseVal'] = data.target  # Adding target variable to DataFrame"
   ]
  },
  {
   "cell_type": "code",
   "execution_count": 29,
   "id": "86b940c5-ee9b-4d7f-a6fb-948da88f9e9a",
   "metadata": {},
   "outputs": [],
   "source": [
    "df = pd.DataFrame(data.data, columns=data.feature_names)\n",
    "df['MedHouseVal'] = data.target"
   ]
  },
  {
   "cell_type": "code",
   "execution_count": 30,
   "id": "a52e37cc-b915-43eb-8d09-6bbef848984b",
   "metadata": {},
   "outputs": [
    {
     "name": "stdout",
     "output_type": "stream",
     "text": [
      "       MedInc  HouseAge  AveRooms  AveBedrms  Population  AveOccup  Latitude  \\\n",
      "0      8.3252      41.0  6.984127   1.023810       322.0  2.555556     37.88   \n",
      "1      8.3014      21.0  6.238137   0.971880      2401.0  2.109842     37.86   \n",
      "2      7.2574      52.0  8.288136   1.073446       496.0  2.802260     37.85   \n",
      "3      5.6431      52.0  5.817352   1.073059       558.0  2.547945     37.85   \n",
      "4      3.8462      52.0  6.281853   1.081081       565.0  2.181467     37.85   \n",
      "...       ...       ...       ...        ...         ...       ...       ...   \n",
      "20635  1.5603      25.0  5.045455   1.133333       845.0  2.560606     39.48   \n",
      "20636  2.5568      18.0  6.114035   1.315789       356.0  3.122807     39.49   \n",
      "20637  1.7000      17.0  5.205543   1.120092      1007.0  2.325635     39.43   \n",
      "20638  1.8672      18.0  5.329513   1.171920       741.0  2.123209     39.43   \n",
      "20639  2.3886      16.0  5.254717   1.162264      1387.0  2.616981     39.37   \n",
      "\n",
      "       Longitude  MedHouseVal  \n",
      "0        -122.23        4.526  \n",
      "1        -122.22        3.585  \n",
      "2        -122.24        3.521  \n",
      "3        -122.25        3.413  \n",
      "4        -122.25        3.422  \n",
      "...          ...          ...  \n",
      "20635    -121.09        0.781  \n",
      "20636    -121.21        0.771  \n",
      "20637    -121.22        0.923  \n",
      "20638    -121.32        0.847  \n",
      "20639    -121.24        0.894  \n",
      "\n",
      "[20640 rows x 9 columns]\n"
     ]
    }
   ],
   "source": [
    "print(df)"
   ]
  },
  {
   "cell_type": "code",
   "execution_count": 31,
   "id": "8dd123e0-da14-45cc-8655-bf81e83fd157",
   "metadata": {},
   "outputs": [
    {
     "data": {
      "text/plain": [
       "Index(['MedInc', 'HouseAge', 'AveRooms', 'AveBedrms', 'Population', 'AveOccup',\n",
       "       'Latitude', 'Longitude', 'MedHouseVal'],\n",
       "      dtype='object')"
      ]
     },
     "execution_count": 31,
     "metadata": {},
     "output_type": "execute_result"
    }
   ],
   "source": [
    "df.columns"
   ]
  },
  {
   "cell_type": "code",
   "execution_count": 32,
   "id": "80b14584-17de-4164-9158-4ba7bcb376e8",
   "metadata": {},
   "outputs": [
    {
     "data": {
      "text/plain": [
       "(20640, 9)"
      ]
     },
     "execution_count": 32,
     "metadata": {},
     "output_type": "execute_result"
    }
   ],
   "source": [
    "df.shape"
   ]
  },
  {
   "cell_type": "code",
   "execution_count": 33,
   "id": "778ac8b5-d1de-44c5-a246-a191b451344c",
   "metadata": {},
   "outputs": [
    {
     "name": "stdout",
     "output_type": "stream",
     "text": [
      "<class 'pandas.core.frame.DataFrame'>\n",
      "RangeIndex: 20640 entries, 0 to 20639\n",
      "Data columns (total 9 columns):\n",
      " #   Column       Non-Null Count  Dtype  \n",
      "---  ------       --------------  -----  \n",
      " 0   MedInc       20640 non-null  float64\n",
      " 1   HouseAge     20640 non-null  float64\n",
      " 2   AveRooms     20640 non-null  float64\n",
      " 3   AveBedrms    20640 non-null  float64\n",
      " 4   Population   20640 non-null  float64\n",
      " 5   AveOccup     20640 non-null  float64\n",
      " 6   Latitude     20640 non-null  float64\n",
      " 7   Longitude    20640 non-null  float64\n",
      " 8   MedHouseVal  20640 non-null  float64\n",
      "dtypes: float64(9)\n",
      "memory usage: 1.4 MB\n"
     ]
    }
   ],
   "source": [
    "df.info()"
   ]
  },
  {
   "cell_type": "code",
   "execution_count": 34,
   "id": "a051f064-d7c4-4597-b601-c8d802ea45b1",
   "metadata": {},
   "outputs": [
    {
     "data": {
      "text/html": [
       "<div>\n",
       "<style scoped>\n",
       "    .dataframe tbody tr th:only-of-type {\n",
       "        vertical-align: middle;\n",
       "    }\n",
       "\n",
       "    .dataframe tbody tr th {\n",
       "        vertical-align: top;\n",
       "    }\n",
       "\n",
       "    .dataframe thead th {\n",
       "        text-align: right;\n",
       "    }\n",
       "</style>\n",
       "<table border=\"1\" class=\"dataframe\">\n",
       "  <thead>\n",
       "    <tr style=\"text-align: right;\">\n",
       "      <th></th>\n",
       "      <th>MedInc</th>\n",
       "      <th>HouseAge</th>\n",
       "      <th>AveRooms</th>\n",
       "      <th>AveBedrms</th>\n",
       "      <th>Population</th>\n",
       "      <th>AveOccup</th>\n",
       "      <th>Latitude</th>\n",
       "      <th>Longitude</th>\n",
       "      <th>MedHouseVal</th>\n",
       "    </tr>\n",
       "  </thead>\n",
       "  <tbody>\n",
       "    <tr>\n",
       "      <th>0</th>\n",
       "      <td>8.3252</td>\n",
       "      <td>41.0</td>\n",
       "      <td>6.984127</td>\n",
       "      <td>1.023810</td>\n",
       "      <td>322.0</td>\n",
       "      <td>2.555556</td>\n",
       "      <td>37.88</td>\n",
       "      <td>-122.23</td>\n",
       "      <td>4.526</td>\n",
       "    </tr>\n",
       "    <tr>\n",
       "      <th>1</th>\n",
       "      <td>8.3014</td>\n",
       "      <td>21.0</td>\n",
       "      <td>6.238137</td>\n",
       "      <td>0.971880</td>\n",
       "      <td>2401.0</td>\n",
       "      <td>2.109842</td>\n",
       "      <td>37.86</td>\n",
       "      <td>-122.22</td>\n",
       "      <td>3.585</td>\n",
       "    </tr>\n",
       "    <tr>\n",
       "      <th>2</th>\n",
       "      <td>7.2574</td>\n",
       "      <td>52.0</td>\n",
       "      <td>8.288136</td>\n",
       "      <td>1.073446</td>\n",
       "      <td>496.0</td>\n",
       "      <td>2.802260</td>\n",
       "      <td>37.85</td>\n",
       "      <td>-122.24</td>\n",
       "      <td>3.521</td>\n",
       "    </tr>\n",
       "    <tr>\n",
       "      <th>3</th>\n",
       "      <td>5.6431</td>\n",
       "      <td>52.0</td>\n",
       "      <td>5.817352</td>\n",
       "      <td>1.073059</td>\n",
       "      <td>558.0</td>\n",
       "      <td>2.547945</td>\n",
       "      <td>37.85</td>\n",
       "      <td>-122.25</td>\n",
       "      <td>3.413</td>\n",
       "    </tr>\n",
       "    <tr>\n",
       "      <th>4</th>\n",
       "      <td>3.8462</td>\n",
       "      <td>52.0</td>\n",
       "      <td>6.281853</td>\n",
       "      <td>1.081081</td>\n",
       "      <td>565.0</td>\n",
       "      <td>2.181467</td>\n",
       "      <td>37.85</td>\n",
       "      <td>-122.25</td>\n",
       "      <td>3.422</td>\n",
       "    </tr>\n",
       "  </tbody>\n",
       "</table>\n",
       "</div>"
      ],
      "text/plain": [
       "   MedInc  HouseAge  AveRooms  AveBedrms  Population  AveOccup  Latitude  \\\n",
       "0  8.3252      41.0  6.984127   1.023810       322.0  2.555556     37.88   \n",
       "1  8.3014      21.0  6.238137   0.971880      2401.0  2.109842     37.86   \n",
       "2  7.2574      52.0  8.288136   1.073446       496.0  2.802260     37.85   \n",
       "3  5.6431      52.0  5.817352   1.073059       558.0  2.547945     37.85   \n",
       "4  3.8462      52.0  6.281853   1.081081       565.0  2.181467     37.85   \n",
       "\n",
       "   Longitude  MedHouseVal  \n",
       "0    -122.23        4.526  \n",
       "1    -122.22        3.585  \n",
       "2    -122.24        3.521  \n",
       "3    -122.25        3.413  \n",
       "4    -122.25        3.422  "
      ]
     },
     "execution_count": 34,
     "metadata": {},
     "output_type": "execute_result"
    }
   ],
   "source": [
    "df.head()"
   ]
  },
  {
   "cell_type": "code",
   "execution_count": 35,
   "id": "3cdc023a-702f-4929-8362-85e51ef818d6",
   "metadata": {},
   "outputs": [
    {
     "data": {
      "text/html": [
       "<div>\n",
       "<style scoped>\n",
       "    .dataframe tbody tr th:only-of-type {\n",
       "        vertical-align: middle;\n",
       "    }\n",
       "\n",
       "    .dataframe tbody tr th {\n",
       "        vertical-align: top;\n",
       "    }\n",
       "\n",
       "    .dataframe thead th {\n",
       "        text-align: right;\n",
       "    }\n",
       "</style>\n",
       "<table border=\"1\" class=\"dataframe\">\n",
       "  <thead>\n",
       "    <tr style=\"text-align: right;\">\n",
       "      <th></th>\n",
       "      <th>MedInc</th>\n",
       "      <th>HouseAge</th>\n",
       "      <th>AveRooms</th>\n",
       "      <th>AveBedrms</th>\n",
       "      <th>Population</th>\n",
       "      <th>AveOccup</th>\n",
       "      <th>Latitude</th>\n",
       "      <th>Longitude</th>\n",
       "      <th>MedHouseVal</th>\n",
       "    </tr>\n",
       "  </thead>\n",
       "  <tbody>\n",
       "    <tr>\n",
       "      <th>20635</th>\n",
       "      <td>1.5603</td>\n",
       "      <td>25.0</td>\n",
       "      <td>5.045455</td>\n",
       "      <td>1.133333</td>\n",
       "      <td>845.0</td>\n",
       "      <td>2.560606</td>\n",
       "      <td>39.48</td>\n",
       "      <td>-121.09</td>\n",
       "      <td>0.781</td>\n",
       "    </tr>\n",
       "    <tr>\n",
       "      <th>20636</th>\n",
       "      <td>2.5568</td>\n",
       "      <td>18.0</td>\n",
       "      <td>6.114035</td>\n",
       "      <td>1.315789</td>\n",
       "      <td>356.0</td>\n",
       "      <td>3.122807</td>\n",
       "      <td>39.49</td>\n",
       "      <td>-121.21</td>\n",
       "      <td>0.771</td>\n",
       "    </tr>\n",
       "    <tr>\n",
       "      <th>20637</th>\n",
       "      <td>1.7000</td>\n",
       "      <td>17.0</td>\n",
       "      <td>5.205543</td>\n",
       "      <td>1.120092</td>\n",
       "      <td>1007.0</td>\n",
       "      <td>2.325635</td>\n",
       "      <td>39.43</td>\n",
       "      <td>-121.22</td>\n",
       "      <td>0.923</td>\n",
       "    </tr>\n",
       "    <tr>\n",
       "      <th>20638</th>\n",
       "      <td>1.8672</td>\n",
       "      <td>18.0</td>\n",
       "      <td>5.329513</td>\n",
       "      <td>1.171920</td>\n",
       "      <td>741.0</td>\n",
       "      <td>2.123209</td>\n",
       "      <td>39.43</td>\n",
       "      <td>-121.32</td>\n",
       "      <td>0.847</td>\n",
       "    </tr>\n",
       "    <tr>\n",
       "      <th>20639</th>\n",
       "      <td>2.3886</td>\n",
       "      <td>16.0</td>\n",
       "      <td>5.254717</td>\n",
       "      <td>1.162264</td>\n",
       "      <td>1387.0</td>\n",
       "      <td>2.616981</td>\n",
       "      <td>39.37</td>\n",
       "      <td>-121.24</td>\n",
       "      <td>0.894</td>\n",
       "    </tr>\n",
       "  </tbody>\n",
       "</table>\n",
       "</div>"
      ],
      "text/plain": [
       "       MedInc  HouseAge  AveRooms  AveBedrms  Population  AveOccup  Latitude  \\\n",
       "20635  1.5603      25.0  5.045455   1.133333       845.0  2.560606     39.48   \n",
       "20636  2.5568      18.0  6.114035   1.315789       356.0  3.122807     39.49   \n",
       "20637  1.7000      17.0  5.205543   1.120092      1007.0  2.325635     39.43   \n",
       "20638  1.8672      18.0  5.329513   1.171920       741.0  2.123209     39.43   \n",
       "20639  2.3886      16.0  5.254717   1.162264      1387.0  2.616981     39.37   \n",
       "\n",
       "       Longitude  MedHouseVal  \n",
       "20635    -121.09        0.781  \n",
       "20636    -121.21        0.771  \n",
       "20637    -121.22        0.923  \n",
       "20638    -121.32        0.847  \n",
       "20639    -121.24        0.894  "
      ]
     },
     "execution_count": 35,
     "metadata": {},
     "output_type": "execute_result"
    }
   ],
   "source": [
    "df.tail()"
   ]
  },
  {
   "cell_type": "code",
   "execution_count": 36,
   "id": "fd458795-ae47-4f1a-8fa8-403368ae4e2b",
   "metadata": {},
   "outputs": [
    {
     "data": {
      "text/html": [
       "<div>\n",
       "<style scoped>\n",
       "    .dataframe tbody tr th:only-of-type {\n",
       "        vertical-align: middle;\n",
       "    }\n",
       "\n",
       "    .dataframe tbody tr th {\n",
       "        vertical-align: top;\n",
       "    }\n",
       "\n",
       "    .dataframe thead th {\n",
       "        text-align: right;\n",
       "    }\n",
       "</style>\n",
       "<table border=\"1\" class=\"dataframe\">\n",
       "  <thead>\n",
       "    <tr style=\"text-align: right;\">\n",
       "      <th></th>\n",
       "      <th>MedInc</th>\n",
       "      <th>HouseAge</th>\n",
       "      <th>AveRooms</th>\n",
       "      <th>AveBedrms</th>\n",
       "      <th>Population</th>\n",
       "      <th>AveOccup</th>\n",
       "      <th>Latitude</th>\n",
       "      <th>Longitude</th>\n",
       "      <th>MedHouseVal</th>\n",
       "    </tr>\n",
       "  </thead>\n",
       "  <tbody>\n",
       "    <tr>\n",
       "      <th>count</th>\n",
       "      <td>20640.000000</td>\n",
       "      <td>20640.000000</td>\n",
       "      <td>20640.000000</td>\n",
       "      <td>20640.000000</td>\n",
       "      <td>20640.000000</td>\n",
       "      <td>20640.000000</td>\n",
       "      <td>20640.000000</td>\n",
       "      <td>20640.000000</td>\n",
       "      <td>20640.000000</td>\n",
       "    </tr>\n",
       "    <tr>\n",
       "      <th>mean</th>\n",
       "      <td>3.870671</td>\n",
       "      <td>28.639486</td>\n",
       "      <td>5.429000</td>\n",
       "      <td>1.096675</td>\n",
       "      <td>1425.476744</td>\n",
       "      <td>3.070655</td>\n",
       "      <td>35.631861</td>\n",
       "      <td>-119.569704</td>\n",
       "      <td>2.068558</td>\n",
       "    </tr>\n",
       "    <tr>\n",
       "      <th>std</th>\n",
       "      <td>1.899822</td>\n",
       "      <td>12.585558</td>\n",
       "      <td>2.474173</td>\n",
       "      <td>0.473911</td>\n",
       "      <td>1132.462122</td>\n",
       "      <td>10.386050</td>\n",
       "      <td>2.135952</td>\n",
       "      <td>2.003532</td>\n",
       "      <td>1.153956</td>\n",
       "    </tr>\n",
       "    <tr>\n",
       "      <th>min</th>\n",
       "      <td>0.499900</td>\n",
       "      <td>1.000000</td>\n",
       "      <td>0.846154</td>\n",
       "      <td>0.333333</td>\n",
       "      <td>3.000000</td>\n",
       "      <td>0.692308</td>\n",
       "      <td>32.540000</td>\n",
       "      <td>-124.350000</td>\n",
       "      <td>0.149990</td>\n",
       "    </tr>\n",
       "    <tr>\n",
       "      <th>25%</th>\n",
       "      <td>2.563400</td>\n",
       "      <td>18.000000</td>\n",
       "      <td>4.440716</td>\n",
       "      <td>1.006079</td>\n",
       "      <td>787.000000</td>\n",
       "      <td>2.429741</td>\n",
       "      <td>33.930000</td>\n",
       "      <td>-121.800000</td>\n",
       "      <td>1.196000</td>\n",
       "    </tr>\n",
       "    <tr>\n",
       "      <th>50%</th>\n",
       "      <td>3.534800</td>\n",
       "      <td>29.000000</td>\n",
       "      <td>5.229129</td>\n",
       "      <td>1.048780</td>\n",
       "      <td>1166.000000</td>\n",
       "      <td>2.818116</td>\n",
       "      <td>34.260000</td>\n",
       "      <td>-118.490000</td>\n",
       "      <td>1.797000</td>\n",
       "    </tr>\n",
       "    <tr>\n",
       "      <th>75%</th>\n",
       "      <td>4.743250</td>\n",
       "      <td>37.000000</td>\n",
       "      <td>6.052381</td>\n",
       "      <td>1.099526</td>\n",
       "      <td>1725.000000</td>\n",
       "      <td>3.282261</td>\n",
       "      <td>37.710000</td>\n",
       "      <td>-118.010000</td>\n",
       "      <td>2.647250</td>\n",
       "    </tr>\n",
       "    <tr>\n",
       "      <th>max</th>\n",
       "      <td>15.000100</td>\n",
       "      <td>52.000000</td>\n",
       "      <td>141.909091</td>\n",
       "      <td>34.066667</td>\n",
       "      <td>35682.000000</td>\n",
       "      <td>1243.333333</td>\n",
       "      <td>41.950000</td>\n",
       "      <td>-114.310000</td>\n",
       "      <td>5.000010</td>\n",
       "    </tr>\n",
       "  </tbody>\n",
       "</table>\n",
       "</div>"
      ],
      "text/plain": [
       "             MedInc      HouseAge      AveRooms     AveBedrms    Population  \\\n",
       "count  20640.000000  20640.000000  20640.000000  20640.000000  20640.000000   \n",
       "mean       3.870671     28.639486      5.429000      1.096675   1425.476744   \n",
       "std        1.899822     12.585558      2.474173      0.473911   1132.462122   \n",
       "min        0.499900      1.000000      0.846154      0.333333      3.000000   \n",
       "25%        2.563400     18.000000      4.440716      1.006079    787.000000   \n",
       "50%        3.534800     29.000000      5.229129      1.048780   1166.000000   \n",
       "75%        4.743250     37.000000      6.052381      1.099526   1725.000000   \n",
       "max       15.000100     52.000000    141.909091     34.066667  35682.000000   \n",
       "\n",
       "           AveOccup      Latitude     Longitude   MedHouseVal  \n",
       "count  20640.000000  20640.000000  20640.000000  20640.000000  \n",
       "mean       3.070655     35.631861   -119.569704      2.068558  \n",
       "std       10.386050      2.135952      2.003532      1.153956  \n",
       "min        0.692308     32.540000   -124.350000      0.149990  \n",
       "25%        2.429741     33.930000   -121.800000      1.196000  \n",
       "50%        2.818116     34.260000   -118.490000      1.797000  \n",
       "75%        3.282261     37.710000   -118.010000      2.647250  \n",
       "max     1243.333333     41.950000   -114.310000      5.000010  "
      ]
     },
     "execution_count": 36,
     "metadata": {},
     "output_type": "execute_result"
    }
   ],
   "source": [
    "df.describe()"
   ]
  },
  {
   "cell_type": "markdown",
   "id": "85cbc724-3b76-4508-b966-b895f0f85cfa",
   "metadata": {},
   "source": [
    "Step 3: Checking for Missing Values\n",
    "Before training a model, it’s crucial to check if any data is missing. Missing values can distort model performance."
   ]
  },
  {
   "cell_type": "code",
   "execution_count": 37,
   "id": "d6b41f57-a174-418f-970b-ced9c71b36f9",
   "metadata": {},
   "outputs": [
    {
     "name": "stdout",
     "output_type": "stream",
     "text": [
      "MedInc         0\n",
      "HouseAge       0\n",
      "AveRooms       0\n",
      "AveBedrms      0\n",
      "Population     0\n",
      "AveOccup       0\n",
      "Latitude       0\n",
      "Longitude      0\n",
      "MedHouseVal    0\n",
      "dtype: int64\n"
     ]
    }
   ],
   "source": [
    "print(df.isnull().sum())"
   ]
  },
  {
   "cell_type": "code",
   "execution_count": 40,
   "id": "4ceebb0d-e859-450d-b5a5-10634ff3a54a",
   "metadata": {},
   "outputs": [
    {
     "name": "stdout",
     "output_type": "stream",
     "text": [
      "0\n"
     ]
    }
   ],
   "source": [
    "print(df.duplicated().sum())"
   ]
  },
  {
   "cell_type": "markdown",
   "id": "dff31e50-9a55-464b-9adb-1ae530f05c07",
   "metadata": {},
   "source": [
    "1. Detecting Outliers\n",
    "Using Boxplot\n",
    "We can visualize outliers using a boxplot."
   ]
  },
  {
   "cell_type": "code",
   "execution_count": 12,
   "id": "08d01d55-7b9c-4553-8267-4fdd1542affa",
   "metadata": {},
   "outputs": [
    {
     "data": {
      "image/png": "[encoded data removed]",
      "text/plain": [
       "<Figure size 1200x600 with 1 Axes>"
      ]
     },
     "metadata": {},
     "output_type": "display_data"
    }
   ],
   "source": [
    "import seaborn as sns\n",
    "import matplotlib.pyplot as plt\n",
    "\n",
    "plt.figure(figsize=(12, 6))\n",
    "sns.boxplot(data=df)\n",
    "plt.xticks(rotation=90)  # Rotate feature names for better visibility\n",
    "plt.title(\"Boxplot of Features to Detect Outliers\")\n",
    "plt.show()"
   ]
  },
  {
   "cell_type": "markdown",
   "id": "4e5b4cdb-1c1b-4645-9db8-d8957a51d9f6",
   "metadata": {},
   "source": [
    " Boxplot Interpretation:\n",
    "\n",
    "The points outside the whiskers are potential outliers."
   ]
  },
  {
   "cell_type": "markdown",
   "id": "2a7d532a-289b-46c0-8bb8-8f9e808b9c71",
   "metadata": {},
   "source": [
    "Using Z-Score Method\n",
    "The Z-score measures how many standard deviations a data point is from the mean. If |Z-score| > 3, it’s usually considered an outlier."
   ]
  },
  {
   "cell_type": "code",
   "execution_count": 15,
   "id": "12b37c3f-8c44-4010-abbd-7229d671349b",
   "metadata": {},
   "outputs": [
    {
     "name": "stdout",
     "output_type": "stream",
     "text": [
      "Shape before removing outliers: (20640, 9)\n",
      "Shape after removing outliers: (19794, 9)\n"
     ]
    }
   ],
   "source": [
    "import numpy as np\n",
    "from scipy import stats\n",
    "\n",
    "# Compute Z-scores\n",
    "z_scores = np.abs(stats.zscore(df))\n",
    "\n",
    "# Define threshold (commonly 3)\n",
    "threshold = 3\n",
    "\n",
    "# Identify rows where any feature has Z-score > 3\n",
    "outlier_rows = (z_scores > threshold).any(axis=1)\n",
    "\n",
    "# Remove outliers\n",
    "df_clean = df[~outlier_rows]\n",
    "\n",
    "# Print shape before and after\n",
    "print(\"Shape before removing outliers:\", df.shape)\n",
    "print(\"Shape after removing outliers:\", df_clean.shape)\n"
   ]
  },
  {
   "cell_type": "code",
   "execution_count": 17,
   "id": "28cd906b-eadd-4e27-8bda-17b02a4ef0cd",
   "metadata": {},
   "outputs": [
    {
     "data": {
      "image/png": "[encoded data removed]",
      "text/plain": [
       "<Figure size 1200x600 with 1 Axes>"
      ]
     },
     "metadata": {},
     "output_type": "display_data"
    }
   ],
   "source": [
    "plt.figure(figsize=(12, 6))\n",
    "sns.boxplot(data=df_clean)\n",
    "plt.title(\"Boxplot After Removing Outliers Using Z-Score Method\")\n",
    "plt.xticks(rotation=45)  # Rotate column names for better visibility\n",
    "plt.show()"
   ]
  },
  {
   "cell_type": "markdown",
   "id": "0eb58eaf-1f63-45ac-9bfc-bffae166ff3b",
   "metadata": {},
   "source": [
    "📌 Explanation\n",
    "1️⃣ Computes Z-scores for all numeric columns.\n",
    "2️⃣ Removes rows where any feature has a Z-score beyond ±3.\n",
    "3️⃣ Plots the boxplot for cleaned data.\n",
    "\n",
    "🔹 Boxplot Interpretation:\n",
    "\n",
    "The box represents the interquartile range (IQR).\n",
    "Whiskers show data spread, and outliers (dots) should be minimized.\n",
    "After Z-score filtering, extreme outliers are removed while keeping valid data."
   ]
  },
  {
   "cell_type": "code",
   "execution_count": 16,
   "id": "fdac93a8-e6c8-4cab-8214-134bea633e0b",
   "metadata": {},
   "outputs": [
    {
     "name": "stdout",
     "output_type": "stream",
     "text": [
      "       MedInc  HouseAge  AveRooms  AveBedrms  Population  AveOccup  Latitude  \\\n",
      "0      8.3252      41.0  6.984127   1.023810       322.0  2.555556     37.88   \n",
      "1      8.3014      21.0  6.238137   0.971880      2401.0  2.109842     37.86   \n",
      "2      7.2574      52.0  8.288136   1.073446       496.0  2.802260     37.85   \n",
      "3      5.6431      52.0  5.817352   1.073059       558.0  2.547945     37.85   \n",
      "4      3.8462      52.0  6.281853   1.081081       565.0  2.181467     37.85   \n",
      "...       ...       ...       ...        ...         ...       ...       ...   \n",
      "20635  1.5603      25.0  5.045455   1.133333       845.0  2.560606     39.48   \n",
      "20636  2.5568      18.0  6.114035   1.315789       356.0  3.122807     39.49   \n",
      "20637  1.7000      17.0  5.205543   1.120092      1007.0  2.325635     39.43   \n",
      "20638  1.8672      18.0  5.329513   1.171920       741.0  2.123209     39.43   \n",
      "20639  2.3886      16.0  5.254717   1.162264      1387.0  2.616981     39.37   \n",
      "\n",
      "       Longitude  MedHouseVal  \n",
      "0        -122.23        4.526  \n",
      "1        -122.22        3.585  \n",
      "2        -122.24        3.521  \n",
      "3        -122.25        3.413  \n",
      "4        -122.25        3.422  \n",
      "...          ...          ...  \n",
      "20635    -121.09        0.781  \n",
      "20636    -121.21        0.771  \n",
      "20637    -121.22        0.923  \n",
      "20638    -121.32        0.847  \n",
      "20639    -121.24        0.894  \n",
      "\n",
      "[19794 rows x 9 columns]\n"
     ]
    }
   ],
   "source": [
    "print(df_clean)"
   ]
  },
  {
   "cell_type": "markdown",
   "id": "b1c90098-1607-4f5e-a878-75a4bb35b34b",
   "metadata": {},
   "source": [
    "Step 4: Splitting Data into Features and Target Variable\n",
    "We separate the independent variables (X) from the dependent variable (y):"
   ]
  },
  {
   "cell_type": "code",
   "execution_count": 20,
   "id": "96e32bc1-0cf3-4d99-93a2-16dd8c27fec7",
   "metadata": {},
   "outputs": [],
   "source": [
    "from sklearn.model_selection import train_test_split\n",
    "X = df.drop(columns=['MedHouseVal'])\n",
    "y = df['MedHouseVal']"
   ]
  },
  {
   "cell_type": "markdown",
   "id": "f7aa52d6-7c05-4a57-86b7-f4fddcece9b4",
   "metadata": {},
   "source": [
    "This allows us to train models on X while predicting y."
   ]
  },
  {
   "cell_type": "markdown",
   "id": "89cb54af-e0e2-48dd-8a8a-9971b441ee61",
   "metadata": {},
   "source": [
    "Step 5: Splitting Data into Training and Testing Sets\n",
    "We split our dataset into training and testing sets using train_test_split():"
   ]
  },
  {
   "cell_type": "code",
   "execution_count": 22,
   "id": "7fe83a05-012d-4569-8288-6dd74b3a53dd",
   "metadata": {},
   "outputs": [],
   "source": [
    "from sklearn.preprocessing import StandardScaler\n",
    "X_train, X_test, y_train, y_test = train_test_split(X, y, test_size=0.2, random_state=42)"
   ]
  },
  {
   "cell_type": "markdown",
   "id": "8fd4d94b-e22b-4a18-a668-738e006d6d61",
   "metadata": {},
   "source": [
    "test_size=0.2: 20% of the data is used for testing.\n",
    "random_state=42: Ensures reproducibility."
   ]
  },
  {
   "cell_type": "markdown",
   "id": "717d059d-237c-4dc2-a33d-4e41341e80ab",
   "metadata": {},
   "source": [
    "Step 6: Feature Scaling\n",
    "Machine learning models work better when features are on a similar scale. Since our dataset has variables like income (MedInc) in thousands and latitude in single digits, we standardize features using StandardScaler:"
   ]
  },
  {
   "cell_type": "code",
   "execution_count": 23,
   "id": "d6f81dd3-501b-4dd9-b9b5-5b0b7101227e",
   "metadata": {},
   "outputs": [],
   "source": [
    "from sklearn.preprocessing import StandardScaler\n",
    "scaler = StandardScaler()\n",
    "X_train_scaled = scaler.fit_transform(X_train)\n",
    "X_test_scaled = scaler.transform(X_test)"
   ]
  },
  {
   "cell_type": "markdown",
   "id": "a4064e1b-3a4d-4b87-87b7-11a8113a30ac",
   "metadata": {},
   "source": [
    "fit_transform(X_train): Fits and transforms training data.\n",
    "transform(X_test): Only transforms test data (to prevent data leakage).\n"
   ]
  },
  {
   "cell_type": "markdown",
   "id": "09bdd457-27b9-4108-9cbc-9cc35c91c8e2",
   "metadata": {},
   "source": [
    "We implement five different regression models and explain why each might work well.\n",
    "\n",
    "1. Linear Regression\n",
    "\n",
    "Why it’s Suitable:\n",
    "If the data has a linear relationship, this model performs well.\n",
    "It's easy to interpret and computationally efficient.\n",
    "2. Decision Tree Regressor\n",
    "How it Works:\n",
    "A Decision Tree splits the dataset into smaller subsets based on feature values. It creates a tree where:\n",
    "\n",
    "Each internal node represents a decision (feature split).\n",
    "Each leaf node gives a prediction.\n",
    "Why it’s Suitable:\n",
    "Captures complex non-linear relationships.\n",
    "Handles missing and categorical data.\n",
    "However, it overfits easily on training data.\n",
    "3. Random Forest Regressor\n",
    "How it Works:\n",
    "Random Forest is an ensemble of Decision Trees, reducing overfitting by averaging multiple predictions.\n",
    "\n",
    "Steps:\n",
    "\n",
    "Creates multiple Decision Trees from random subsets of the dataset.\n",
    "Aggregates their predictions (mean for regression).\n",
    "Why it’s Suitable:\n",
    "Reduces variance compared to a single Decision Tree.\n",
    "Handles large datasets and noisy data well.\n",
    "4. Gradient Boosting Regressor\n",
    "How it Works:\n",
    "Gradient Boosting builds trees sequentially, where each new tree corrects errors of the previous one. It minimizes the loss function using gradient descent.\n",
    "\n",
    "Why it’s Suitable:\n",
    "More powerful than Random Forest for structured data.\n",
    "Works well on medium-sized datasets.\n",
    "Downside: Computationally expensive.\n",
    "5. Support Vector Regressor (SVR)\n",
    "How it Works:\n",
    "SVR finds a hyperplane that best fits the data while allowing some tolerance for errors. It uses a kernel function to transform data into a higher dimension.\n",
    "\n",
    "Why it’s Suitable:\n",
    "Works well when data is not linearly separable.\n",
    "Effective in high-dimensional spaces.\n",
    "Downside: Computationally expensive on large datasets.\n",
    "3. Model Evaluation and Comparison (2 marks)\n",
    "We evaluate each model using three key metrics:\n",
    "\n",
    "Mean Squared Error (MSE)\n",
    "Measures average squared difference between actual and predicted values. Lower is better.\n",
    "\n",
    "\n",
    "Mean Absolute Error (MAE)\n",
    "Measures absolute differences between actual and predicted values.\n",
    "∣\n",
    "R-squared Score (R²)\n",
    "Measures how well the model explains variance in data. Higher is better.\n",
    "4. Model Comparison\n",
    "After training each model, we compare their performance:\n",
    "\n",
    "Best Performing Model\n",
    "Likely candidate: Gradient Boosting or Random Forest\n",
    "These models balance bias and variance well.\n",
    "Worst Performing Model\n",
    "Likely candidate: Linear Regression or SVR\n",
    "Linear Regression struggles if data is non-linear.\n",
    "SVR may be slow and not generalize well."
   ]
  },
  {
   "cell_type": "code",
   "execution_count": 24,
   "id": "b3b5062d-5731-4a1e-85c4-0d42756daf45",
   "metadata": {},
   "outputs": [],
   "source": [
    "from sklearn.linear_model import LinearRegression\n",
    "from sklearn.tree import DecisionTreeRegressor\n",
    "from sklearn.ensemble import RandomForestRegressor, GradientBoostingRegressor\n",
    "from sklearn.svm import SVR\n",
    "from sklearn.metrics import mean_squared_error, mean_absolute_error, r2_score\n",
    "models = {\n",
    "    \"Linear Regression\": LinearRegression(),\n",
    "    \"Decision Tree\": DecisionTreeRegressor(random_state=42),\n",
    "    \"Random Forest\": RandomForestRegressor(random_state=42),\n",
    "    \"Gradient Boosting\": GradientBoostingRegressor(random_state=42),\n",
    "    \"Support Vector Regressor\": SVR()}"
   ]
  },
  {
   "cell_type": "code",
   "execution_count": 25,
   "id": "c1fd1d6a-1eae-4729-a4f1-ec7a729714e7",
   "metadata": {},
   "outputs": [
    {
     "name": "stdout",
     "output_type": "stream",
     "text": [
      "Linear Regression Performance:\n",
      "MSE: 0.5559, MAE: 0.5332, R²: 0.5758\n",
      "\n",
      "Decision Tree Performance:\n",
      "MSE: 0.4940, MAE: 0.4539, R²: 0.6230\n",
      "\n",
      "Random Forest Performance:\n",
      "MSE: 0.2552, MAE: 0.3274, R²: 0.8053\n",
      "\n",
      "Gradient Boosting Performance:\n",
      "MSE: 0.2940, MAE: 0.3717, R²: 0.7756\n",
      "\n",
      "Support Vector Regressor Performance:\n",
      "MSE: 0.3570, MAE: 0.3986, R²: 0.7276\n",
      "\n",
      "Model Evaluation and Comparison:\n",
      "                               MSE       MAE        R²\n",
      "Linear Regression         0.555892  0.533200  0.575788\n",
      "Decision Tree             0.493969  0.453904  0.623042\n",
      "Random Forest             0.255170  0.327425  0.805275\n",
      "Gradient Boosting         0.293999  0.371650  0.775643\n",
      "Support Vector Regressor  0.357004  0.398599  0.727563\n",
      "Best Performing Model: Random Forest (Highest R² Score)\n",
      "Worst Performing Model: Linear Regression (Lowest R² Score)\n"
     ]
    },
    {
     "data": {
      "text/plain": [
       "<Figure size 1200x600 with 0 Axes>"
      ]
     },
     "metadata": {},
     "output_type": "display_data"
    },
    {
     "data": {
      "image/png": "[encoded data removed]",
      "text/plain": [
       "<Figure size 1200x600 with 1 Axes>"
      ]
     },
     "metadata": {},
     "output_type": "display_data"
    }
   ],
   "source": [
    "results = {}\n",
    "\n",
    "# Train and evaluate models\n",
    "for name, model in models.items():\n",
    "    model.fit(X_train_scaled, y_train)\n",
    "    y_pred = model.predict(X_test_scaled)\n",
    "    mse = mean_squared_error(y_test, y_pred)\n",
    "    mae = mean_absolute_error(y_test, y_pred)\n",
    "    r2 = r2_score(y_test, y_pred)\n",
    "    results[name] = {\"MSE\": mse, \"MAE\": mae, \"R²\": r2}\n",
    "    print(f\"{name} Performance:\")\n",
    "    print(f\"MSE: {mse:.4f}, MAE: {mae:.4f}, R²: {r2:.4f}\\n\")\n",
    "\n",
    "# Convert results into DataFrame and display\n",
    "results_df = pd.DataFrame(results).T\n",
    "print(\"Model Evaluation and Comparison:\")\n",
    "print(results_df)\n",
    "\n",
    "# Identify the best and worst performing models\n",
    "best_model = results_df['R²'].idxmax()\n",
    "worst_model = results_df['R²'].idxmin()\n",
    "print(f\"Best Performing Model: {best_model} (Highest R² Score)\")\n",
    "print(f\"Worst Performing Model: {worst_model} (Lowest R² Score)\")\n",
    "# Plot the results\n",
    "plt.figure(figsize=(12, 6))\n",
    "results_df.plot(kind='bar', figsize=(12, 6))\n",
    "plt.title('Model Performance Comparison')\n",
    "plt.xlabel('Regression Models')\n",
    "plt.ylabel('Error / Score')\n",
    "plt.legend()\n",
    "plt.grid()\n",
    "plt.show()"
   ]
  },
  {
   "cell_type": "code",
   "execution_count": null,
   "id": "b8e98c0e-cf84-42ca-9492-0a0df50e365f",
   "metadata": {},
   "outputs": [],
   "source": []
  }
 ],
 "metadata": {
  "kernelspec": {
   "display_name": "Python 3 (ipykernel)",
   "language": "python",
   "name": "python3"
  },
  "language_info": {
   "codemirror_mode": {
    "name": "ipython",
    "version": 3
   },
   "file_extension": ".py",
   "mimetype": "text/x-python",
   "name": "python",
   "nbconvert_exporter": "python",
   "pygments_lexer": "ipython3",
   "version": "3.12.7"
  }
 },
 "nbformat": 4,
 "nbformat_minor": 5
}
